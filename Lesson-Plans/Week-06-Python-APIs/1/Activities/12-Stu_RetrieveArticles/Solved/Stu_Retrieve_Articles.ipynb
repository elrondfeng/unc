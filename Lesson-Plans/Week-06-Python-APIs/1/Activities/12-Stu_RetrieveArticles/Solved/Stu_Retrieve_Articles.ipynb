{
 "cells": [
  {
   "cell_type": "code",
   "execution_count": 10,
   "metadata": {},
   "outputs": [
    {
     "name": "stdout",
     "output_type": "stream",
     "text": [
      "https://api.nytimes.com/svc/search/v2/articlesearch.json?api-key=3e80502c0f1c44dc90a613e8c9980e02&q=obama&begin_date=20160101&end_date=20160130\n"
     ]
    }
   ],
   "source": [
    "# Dependencies\n",
    "import requests\n",
    "# from config import api_key\n",
    "api_key = '3e80502c0f1c44dc90a613e8c9980e02'\n",
    "\n",
    "url = \"https://api.nytimes.com/svc/search/v2/articlesearch.json?\"\n",
    "\n",
    "# Store a search term\n",
    "query = \"obama\"\n",
    "\n",
    "# Search for articles published between a begin and end date\n",
    "begin_date = \"20160101\"\n",
    "end_date = \"20160130\"\n",
    "\n",
    "query_url = f\"{url}api-key={api_key}&q={query}&begin_date={begin_date}&end_date={end_date}\"\n",
    "            \n",
    "print(query_url)"
   ]
  },
  {
   "cell_type": "code",
   "execution_count": 11,
   "metadata": {},
   "outputs": [
    {
     "name": "stdout",
     "output_type": "stream",
     "text": [
      "A snippet from the article: When the president goes to the Illinois Capitol next month to speak, he will call for a less divisive politics, aides say.\n",
      "A snippet from the article: The first time the president met with House Democrats, in 2009, there were 257 of them. Now there are 188. Some point a finger at him.\n",
      "A snippet from the article: Tucked into a piece of legislation are a few words that will change how American officials treat Israeli settlements in the West Bank.\n",
      "A snippet from the article: “We must confront the reality that around the world anti-Semitism is on the rise,” the president urged at an event to posthumously honor individuals who protected Jews during the Holocaust.\n",
      "A snippet from the article: Katie Beirne Fallon, the president’s legislative director, has been credited with improving his relations with lawmakers on Capitol Hill.\n",
      "A snippet from the article: Mrs. Clinton also said that Mr. Sanders’s proposal for a single-payer health care system would thrust the nation into “a terrible, terrible national debate.”\n",
      "A snippet from the article: A federal order will deprive local authorities of critical tools in an age of heightened fears about terrorism and mass shootings, some law enforcement leaders say.\n",
      "A snippet from the article: A compromise to reaffirm concealed-carry reciprocity with 25 states looks like a sellout to gun-control advocates.\n",
      "A snippet from the article: The new rules, announced by the Obama administration, allow banks to provide direct financing for products other than agricultural commodities.\n",
      "A snippet from the article: A tidal wave of people threatens to overwhelm our top ally, the E.U.\n"
     ]
    }
   ],
   "source": [
    "# Retrieve articles\n",
    "articles = requests.get(query_url).json()\n",
    "articles_list = [article for article in articles[\"response\"][\"docs\"]]\n",
    "\n",
    "for article in articles_list:\n",
    "    print(f'A snippet from the article: {article[\"snippet\"]}')"
   ]
  },
  {
   "cell_type": "code",
   "execution_count": 13,
   "metadata": {},
   "outputs": [
    {
     "name": "stdout",
     "output_type": "stream",
     "text": [
      "https://api.nytimes.com/svc/search/v2/articlesearch.json?api-key=164b73c522a8420c8e05343ef1da0a7e&q=obama&begin_date=20160101&end_date=20160130&page=0\n",
      "{'status': 'OK', 'copyright': 'Copyright (c) 2018 The New York Times Company. All Rights Reserved.', 'response': {'docs': [{'web_url': 'https://www.nytimes.com/2016/01/30/us/obama-plans-springfield-illinois-speech.html', 'snippet': 'When the president goes to the Illinois Capitol next month to speak, he will call for a less divisive politics, aides say.', 'blog': {}, 'source': 'The New York Times', 'multimedia': [{'rank': 0, 'subtype': 'wide', 'caption': None, 'credit': None, 'type': 'image', 'url': 'images/2016/01/30/us/30springfield-web/30springfield-web-thumbWide.jpg', 'height': 126, 'width': 190, 'legacy': {'wide': 'images/2016/01/30/us/30springfield-web/30springfield-web-thumbWide.jpg', 'wideheight': '126', 'widewidth': '190'}, 'subType': 'wide', 'crop_name': None}, {'rank': 0, 'subtype': 'xlarge', 'caption': None, 'credit': None, 'type': 'image', 'url': 'images/2016/01/30/us/30springfield-web/30springfield-web-articleLarge.jpg', 'height': 385, 'width': 600, 'legacy': {'xlargewidth': '600', 'xlarge': 'images/2016/01/30/us/30springfield-web/30springfield-web-articleLarge.jpg', 'xlargeheight': '385'}, 'subType': 'xlarge', 'crop_name': None}, {'rank': 0, 'subtype': 'thumbnail', 'caption': None, 'credit': None, 'type': 'image', 'url': 'images/2016/01/30/us/30springfield-web/30springfield-web-thumbStandard.jpg', 'height': 75, 'width': 75, 'legacy': {'thumbnailheight': '75', 'thumbnail': 'images/2016/01/30/us/30springfield-web/30springfield-web-thumbStandard.jpg', 'thumbnailwidth': '75'}, 'subType': 'thumbnail', 'crop_name': None}], 'headline': {'main': 'Obama Plans Speech in Springfield, Where He Announced Candidacy', 'kicker': None, 'content_kicker': None, 'print_headline': None, 'name': None, 'seo': None, 'sub': None}, 'keywords': [{'name': 'persons', 'value': 'Obama, Barack', 'rank': 1, 'major': None}, {'name': 'glocations', 'value': 'Springfield (Ill)', 'rank': 2, 'major': None}, {'name': 'subject', 'value': 'Politics and Government', 'rank': 3, 'major': None}], 'pub_date': '2016-01-30T00:00:00Z', 'document_type': 'article', 'new_desk': 'National', 'byline': {'original': 'By MICHAEL D. SHEAR', 'person': [{'firstname': 'Michael', 'middlename': None, 'lastname': None, 'qualifier': None, 'title': None, 'role': 'reported', 'organization': '', 'rank': 1}], 'organization': None}, 'type_of_material': 'News', '_id': '56abc4e138f0d87a419574e1', 'word_count': 306, 'score': 7.4552943e-32}, {'web_url': 'https://www.nytimes.com/2016/01/29/us/politics/house-democrats-obama.html', 'snippet': 'The first time the president met with House Democrats, in 2009, there were 257 of them. Now there are 188. Some point a finger at him.', 'print_page': '18', 'blog': {}, 'source': 'The New York Times', 'multimedia': [{'rank': 0, 'subtype': 'xlarge', 'caption': None, 'credit': None, 'type': 'image', 'url': 'images/2016/01/29/us/29dems-webALT/29dems-webALT-articleLarge.jpg', 'height': 400, 'width': 600, 'legacy': {'xlargewidth': 600, 'xlarge': 'images/2016/01/29/us/29dems-webALT/29dems-webALT-articleLarge.jpg', 'xlargeheight': 400}, 'subType': 'xlarge', 'crop_name': None}, {'rank': 0, 'subtype': 'wide', 'caption': None, 'credit': None, 'type': 'image', 'url': 'images/2016/01/29/us/29dems-webALT/29dems-webALT-thumbWide.jpg', 'height': 126, 'width': 190, 'legacy': {'wide': 'images/2016/01/29/us/29dems-webALT/29dems-webALT-thumbWide.jpg', 'widewidth': 190, 'wideheight': 126}, 'subType': 'wide', 'crop_name': None}, {'rank': 0, 'subtype': 'thumbnail', 'caption': None, 'credit': None, 'type': 'image', 'url': 'images/2016/01/29/us/29dems-webALT/29dems-webALT-thumbStandard.jpg', 'height': 75, 'width': 75, 'legacy': {'thumbnailheight': 75, 'thumbnail': 'images/2016/01/29/us/29dems-webALT/29dems-webALT-thumbStandard.jpg', 'thumbnailwidth': 75}, 'subType': 'thumbnail', 'crop_name': None}], 'headline': {'main': 'For House Democrats, Support for Obama Agenda Came at a Cost', 'kicker': None, 'content_kicker': None, 'print_headline': 'Diminished House Democrats Assess Cost of Backing the Obama Agenda ', 'name': None, 'seo': None, 'sub': None}, 'keywords': [{'name': 'persons', 'value': 'Obama, Barack', 'rank': 1, 'major': 'N'}, {'name': 'glocations', 'value': 'United States', 'rank': 2, 'major': 'N'}, {'name': 'subject', 'value': 'United States Politics and Government', 'rank': 3, 'major': 'N'}, {'name': 'organizations', 'value': 'Democratic Party', 'rank': 4, 'major': 'N'}, {'name': 'organizations', 'value': 'Democratic Congressional Campaign Committee', 'rank': 5, 'major': 'N'}, {'name': 'subject', 'value': 'Elections, House of Representatives', 'rank': 6, 'major': 'N'}, {'name': 'organizations', 'value': 'House of Representatives', 'rank': 7, 'major': 'N'}], 'pub_date': '2016-01-28T16:04:56+0000', 'document_type': 'article', 'new_desk': 'National', 'section_name': 'Politics', 'byline': {'original': 'By DAVID M. HERSZENHORN and MICHAEL D. SHEAR', 'person': [{'firstname': 'David', 'middlename': None, 'lastname': None, 'qualifier': None, 'title': None, 'role': 'reported', 'organization': '', 'rank': 1}], 'organization': None}, 'type_of_material': 'News', '_id': '56aa3c2e38f0d80e5355cbcc', 'word_count': 1132, 'score': 5.921057e-32, 'uri': 'nyt://article/5a46f2e3-403e-567c-b1e1-8a0e61448db4'}, {'web_url': 'https://www.nytimes.com/2016/01/30/us/politics/katie-beirne-fallon-obama-aide-resigning.html', 'snippet': 'Katie Beirne Fallon, the president’s legislative director, has been credited with improving his relations with lawmakers on Capitol Hill.', 'abstract': \"Katie Beirne Fallon, Pres Obama's legislative affairs director and  trusted aide, will leave administration; Fallon played integral role in improving Obama's relationship with lawmakers in Congress and her departure is indication that  administration is unlikely to pursue ambitious legislative agenda in Obama's final year in office.\", 'print_page': '11', 'blog': {}, 'source': 'The New York Times', 'multimedia': [{'rank': 0, 'subtype': 'wide', 'caption': None, 'credit': None, 'type': 'image', 'url': 'images/2016/01/30/us/30fallon-web/30fallon-web-thumbWide.jpg', 'height': 126, 'width': 190, 'legacy': {'wide': 'images/2016/01/30/us/30fallon-web/30fallon-web-thumbWide.jpg', 'wideheight': '126', 'widewidth': '190'}, 'subType': 'wide', 'crop_name': None}, {'rank': 0, 'subtype': 'xlarge', 'caption': None, 'credit': None, 'type': 'image', 'url': 'images/2016/01/30/us/30fallon-web/30fallon-web-articleLarge.jpg', 'height': 400, 'width': 600, 'legacy': {'xlargewidth': '600', 'xlarge': 'images/2016/01/30/us/30fallon-web/30fallon-web-articleLarge.jpg', 'xlargeheight': '400'}, 'subType': 'xlarge', 'crop_name': None}, {'rank': 0, 'subtype': 'thumbnail', 'caption': None, 'credit': None, 'type': 'image', 'url': 'images/2016/01/30/us/30fallon-web/30fallon-web-thumbStandard.jpg', 'height': 75, 'width': 75, 'legacy': {'thumbnailheight': '75', 'thumbnail': 'images/2016/01/30/us/30fallon-web/30fallon-web-thumbStandard.jpg', 'thumbnailwidth': '75'}, 'subType': 'thumbnail', 'crop_name': None}], 'headline': {'main': 'Katie Fallon, Top Obama Aide, Leaving White House', 'kicker': None, 'content_kicker': None, 'print_headline': 'Obama&#8217;s Capitol Hill Liaison Is Leaving White House', 'name': None, 'seo': None, 'sub': None}, 'keywords': [{'name': 'persons', 'value': 'Fallon, Katie Beirne', 'rank': 1, 'major': None}, {'name': 'subject', 'value': 'United States Politics and Government', 'rank': 2, 'major': None}, {'name': 'persons', 'value': 'Obama, Barack', 'rank': 3, 'major': None}, {'name': 'subject', 'value': 'Appointments and Executive Changes', 'rank': 4, 'major': None}], 'pub_date': '2016-01-30T00:00:00Z', 'document_type': 'article', 'new_desk': 'National', 'section_name': 'Politics', 'byline': {'original': 'By JULIE HIRSCHFELD DAVIS', 'person': [{'firstname': 'Julie', 'middlename': 'Hirschfeld', 'lastname': 'DAVIS', 'qualifier': None, 'title': None, 'role': 'reported', 'organization': '', 'rank': 1}], 'organization': None}, 'type_of_material': 'News', '_id': '56ab959838f0d83460bc7c1f', 'word_count': 1090, 'score': 5.314686e-32}, {'web_url': 'https://www.nytimes.com/2016/01/26/opinion/when-made-in-israel-is-a-human-rights-abuse.html', 'snippet': 'Tucked into a piece of legislation are a few words that will change how American officials treat Israeli settlements in the West Bank.', 'abstract': 'Op-Ed article by author Eyal Press urges Pres Obama to reconsider legislation that would collapse distinction between Israel proper and its West Bank settlements for international trade purposes; cites Human Right Watch report which considers economic activity in occupied areas abusive in its effect on Palestinians.', 'print_page': '29', 'blog': {}, 'source': 'The New York Times', 'multimedia': [{'rank': 0, 'subtype': 'wide', 'caption': None, 'credit': None, 'type': 'image', 'url': 'images/2016/01/28/opinion/28press/28press-thumbWide.jpg', 'height': 126, 'width': 190, 'legacy': {'wide': 'images/2016/01/28/opinion/28press/28press-thumbWide.jpg', 'wideheight': '126', 'widewidth': '190'}, 'subType': 'wide', 'crop_name': None}, {'rank': 0, 'subtype': 'xlarge', 'caption': None, 'credit': None, 'type': 'image', 'url': 'images/2016/01/28/opinion/28press/28press-articleLarge.jpg', 'height': 903, 'width': 600, 'legacy': {'xlargewidth': '600', 'xlarge': 'images/2016/01/28/opinion/28press/28press-articleLarge.jpg', 'xlargeheight': '903'}, 'subType': 'xlarge', 'crop_name': None}, {'rank': 0, 'subtype': 'thumbnail', 'caption': None, 'credit': None, 'type': 'image', 'url': 'images/2016/01/28/opinion/28press/28press-thumbStandard.jpg', 'height': 75, 'width': 75, 'legacy': {'thumbnailheight': '75', 'thumbnail': 'images/2016/01/28/opinion/28press/28press-thumbStandard.jpg', 'thumbnailwidth': '75'}, 'subType': 'thumbnail', 'crop_name': None}], 'headline': {'main': 'When ‘Made in Israel’ Is a Human Rights Abuse', 'kicker': 'Op-Ed Contributor', 'content_kicker': 'Op-Ed Contributor', 'print_headline': 'Is ‘Made in Israel’ a Human Rights Abuse?', 'name': None, 'seo': None, 'sub': None}, 'keywords': [{'name': 'subject', 'value': 'Israeli Settlements', 'rank': 1, 'major': None}, {'name': 'glocations', 'value': 'West Bank', 'rank': 11, 'major': None}, {'name': 'subject', 'value': 'Palestinians', 'rank': 2, 'major': None}, {'name': 'organizations', 'value': 'Human Rights Watch', 'rank': 3, 'major': None}, {'name': 'glocations', 'value': 'Israel', 'rank': 4, 'major': None}, {'name': 'subject', 'value': 'International Trade and World Market', 'rank': 5, 'major': None}, {'name': 'subject', 'value': 'Labeling and Labels (Product)', 'rank': 6, 'major': None}, {'name': 'subject', 'value': 'Human Rights and Human Rights Violations', 'rank': 7, 'major': None}, {'name': 'persons', 'value': 'Obama, Barack', 'rank': 8, 'major': None}, {'name': 'subject', 'value': 'United States International Relations', 'rank': 9, 'major': None}, {'name': 'organizations', 'value': 'Boycott, Divestment and Sanctions (BDS)', 'rank': 10, 'major': None}], 'pub_date': '2016-01-28T00:00:00Z', 'document_type': 'article', 'new_desk': 'OpEd', 'byline': {'original': 'By EYAL PRESS', 'person': [{'firstname': 'Eyal', 'middlename': None, 'lastname': 'PRESS', 'qualifier': None, 'title': None, 'role': 'reported', 'organization': '', 'rank': 1}], 'organization': None}, 'type_of_material': 'Op-Ed', '_id': '56a795e538f0d82e67248bd3', 'word_count': 914, 'score': 5.1814063e-32}, {'web_url': 'https://www.nytimes.com/video/us/100000004173017/obama-speaks-at-israeli-embassy.html', 'snippet': '“We must confront the reality that around the world anti-Semitism is on the rise,” the president urged at an event to posthumously honor individuals who protected Jews during the Holocaust.', 'blog': {}, 'source': 'AP', 'multimedia': [{'rank': 0, 'subtype': 'wide', 'caption': None, 'credit': None, 'type': 'image', 'url': 'images/2016/01/27/multimedia/28obama-holocaust/28obama-holocaust-thumbWide.jpg', 'height': 126, 'width': 190, 'legacy': {'wide': 'images/2016/01/27/multimedia/28obama-holocaust/28obama-holocaust-thumbWide.jpg', 'wideheight': '126', 'widewidth': '190'}, 'subType': 'wide', 'crop_name': None}, {'rank': 0, 'subtype': 'xlarge', 'caption': None, 'credit': None, 'type': 'image', 'url': 'images/2016/01/27/multimedia/28obama-holocaust/28obama-holocaust-articleLarge.jpg', 'height': 400, 'width': 600, 'legacy': {'xlargewidth': '600', 'xlarge': 'images/2016/01/27/multimedia/28obama-holocaust/28obama-holocaust-articleLarge.jpg', 'xlargeheight': '400'}, 'subType': 'xlarge', 'crop_name': None}, {'rank': 0, 'subtype': 'thumbnail', 'caption': None, 'credit': None, 'type': 'image', 'url': 'images/2016/01/27/multimedia/28obama-holocaust/28obama-holocaust-thumbStandard.jpg', 'height': 75, 'width': 75, 'legacy': {'thumbnailheight': '75', 'thumbnail': 'images/2016/01/27/multimedia/28obama-holocaust/28obama-holocaust-thumbStandard.jpg', 'thumbnailwidth': '75'}, 'subType': 'thumbnail', 'crop_name': None}], 'headline': {'main': 'Obama Speaks at Israeli Embassy', 'kicker': None, 'content_kicker': None, 'print_headline': None, 'name': None, 'seo': None, 'sub': None}, 'keywords': [{'name': 'subject', 'value': 'Anti-Semitism', 'rank': 1, 'major': None}, {'name': 'subject', 'value': 'War Crimes, Genocide and Crimes Against Humanity', 'rank': 2, 'major': None}, {'name': 'persons', 'value': 'Obama, Barack', 'rank': 3, 'major': None}, {'name': 'glocations', 'value': 'Washington (DC)', 'rank': 4, 'major': None}, {'name': 'subject', 'value': 'Holocaust and the Nazi Era', 'rank': 5, 'major': None}], 'pub_date': '2016-01-27T23:39:30Z', 'document_type': 'multimedia', 'new_desk': 'U.S.', 'byline': {'original': 'By THE ASSOCIATED PRESS', 'person': [], 'organization': 'THE ASSOCIATED PRESS'}, 'type_of_material': 'Video', '_id': '56a99b8f38f0d80e5355c9cb', 'word_count': 30, 'score': 5.16761e-32}, {'web_url': 'https://www.nytimes.com/politics/first-draft/2016/01/29/hillary-clinton-say-bernie-sanderss-health-plan-will-never-ever-come-to-pass/', 'snippet': 'Mrs. Clinton also said that Mr. Sanders’s proposal for a single-payer health care system would thrust the nation into “a terrible, terrible national debate.”', 'abstract': 'Mrs. Clinton also said that Mr. Sanders’s proposal for a single-payer health care system would thrust the nation into “a terrible, terrible national debate.”', 'blog': {}, 'source': 'The New York Times', 'multimedia': [{'rank': 0, 'subtype': 'wide', 'caption': None, 'credit': None, 'type': 'image', 'url': 'images/2016/01/29/us/29firstdraft-clinton2/29firstdraft-clinton2-thumbWide.jpg', 'height': 126, 'width': 190, 'legacy': {'wide': 'images/2016/01/29/us/29firstdraft-clinton2/29firstdraft-clinton2-thumbWide.jpg', 'wideheight': '126', 'widewidth': '190'}, 'subType': 'wide', 'crop_name': None}, {'rank': 0, 'subtype': 'xlarge', 'caption': None, 'credit': None, 'type': 'image', 'url': 'images/2016/01/29/us/29firstdraft-clinton2/29firstdraft-clinton2-articleLarge.jpg', 'height': 400, 'width': 600, 'legacy': {'xlargewidth': '600', 'xlarge': 'images/2016/01/29/us/29firstdraft-clinton2/29firstdraft-clinton2-articleLarge.jpg', 'xlargeheight': '400'}, 'subType': 'xlarge', 'crop_name': None}, {'rank': 0, 'subtype': 'thumbnail', 'caption': None, 'credit': None, 'type': 'image', 'url': 'images/2016/01/29/us/29firstdraft-clinton2/29firstdraft-clinton2-thumbStandard.jpg', 'height': 75, 'width': 75, 'legacy': {'thumbnailheight': '75', 'thumbnail': 'images/2016/01/29/us/29firstdraft-clinton2/29firstdraft-clinton2-thumbStandard.jpg', 'thumbnailwidth': '75'}, 'subType': 'thumbnail', 'crop_name': None}], 'headline': {'main': 'Hillary Clinton Says Bernie Sanders&#8217;s Health Plan Will &#8216;Never, Ever Come to Pass&#8217;', 'kicker': 'First Draft', 'content_kicker': None, 'print_headline': None, 'name': None, 'seo': None, 'sub': None}, 'keywords': [{'name': 'persons', 'value': 'Clinton, Hillary Rodham', 'rank': 1, 'major': None}, {'name': 'persons', 'value': 'Obama, Barack', 'rank': 2, 'major': None}, {'name': 'glocations', 'value': 'Iowa', 'rank': 1, 'major': None}, {'name': 'subject', 'value': 'Health Insurance and Managed Care', 'rank': 1, 'major': None}, {'name': 'subject', 'value': 'Presidential Election of 2016', 'rank': 2, 'major': None}], 'pub_date': '2016-01-29T16:28:35Z', 'document_type': 'blogpost', 'new_desk': 'Politics', 'section_name': 'Politics', 'byline': {'original': 'By AMY CHOZICK', 'person': [{'firstname': 'Amy', 'middlename': None, 'lastname': 'CHOZICK', 'qualifier': None, 'title': None, 'role': 'reported', 'organization': '', 'rank': 1}], 'organization': None}, 'type_of_material': 'Blog', '_id': '56abd9f938f0d87a4195751a', 'word_count': 381, 'score': 4.949793e-32}, {'web_url': 'https://www.nytimes.com/2016/01/27/world/americas/cuba-us-trade-embargo-exports.html', 'snippet': 'The new rules, announced by the Obama administration, allow banks to provide direct financing for products other than agricultural commodities.', 'abstract': 'United States eases restrictions on financing of exports and shipping goods to Cuba, move Obama administration believes will positively impact travel.', 'print_page': '8', 'blog': {}, 'source': 'The New York Times', 'multimedia': [{'rank': 0, 'subtype': 'wide', 'caption': None, 'credit': None, 'type': 'image', 'url': 'images/2016/01/27/world/27cuba-web/27cuba-web-thumbWide.jpg', 'height': 126, 'width': 190, 'legacy': {'wide': 'images/2016/01/27/world/27cuba-web/27cuba-web-thumbWide.jpg', 'wideheight': '126', 'widewidth': '190'}, 'subType': 'wide', 'crop_name': None}, {'rank': 0, 'subtype': 'xlarge', 'caption': None, 'credit': None, 'type': 'image', 'url': 'images/2016/01/27/world/27cuba-web/27cuba-web-articleLarge.jpg', 'height': 396, 'width': 600, 'legacy': {'xlargewidth': '600', 'xlarge': 'images/2016/01/27/world/27cuba-web/27cuba-web-articleLarge.jpg', 'xlargeheight': '396'}, 'subType': 'xlarge', 'crop_name': None}, {'rank': 0, 'subtype': 'thumbnail', 'caption': None, 'credit': None, 'type': 'image', 'url': 'images/2016/01/27/world/27cuba-web/27cuba-web-thumbStandard.jpg', 'height': 75, 'width': 75, 'legacy': {'thumbnailheight': '75', 'thumbnail': 'images/2016/01/27/world/27cuba-web/27cuba-web-thumbStandard.jpg', 'thumbnailwidth': '75'}, 'subType': 'thumbnail', 'crop_name': None}], 'headline': {'main': 'U.S. Eases Restrictions on Financing Exports to Cuba', 'kicker': None, 'content_kicker': None, 'print_headline': 'U.S. Relaxes Rules on Financing Exports and Shipping Goods to Cuba ', 'name': None, 'seo': None, 'sub': None}, 'keywords': [{'name': 'glocations', 'value': 'Cuba', 'rank': 1, 'major': None}, {'name': 'subject', 'value': 'Ships and Shipping', 'rank': 2, 'major': None}, {'name': 'subject', 'value': 'International Trade and World Market', 'rank': 3, 'major': None}, {'name': 'subject', 'value': 'Embargoes and Sanctions', 'rank': 4, 'major': None}, {'name': 'subject', 'value': 'United States International Relations', 'rank': 5, 'major': None}, {'name': 'glocations', 'value': 'United States', 'rank': 6, 'major': None}, {'name': 'persons', 'value': 'Obama, Barack', 'rank': 7, 'major': None}], 'pub_date': '2016-01-27T00:00:00Z', 'document_type': 'article', 'new_desk': 'Foreign', 'section_name': 'Americas', 'byline': {'original': 'By JULIE HIRSCHFELD DAVIS', 'person': [{'firstname': 'Julie', 'middlename': 'Hirschfeld', 'lastname': 'DAVIS', 'qualifier': None, 'title': None, 'role': 'reported', 'organization': '', 'rank': 1}], 'organization': None}, 'type_of_material': 'News', '_id': '56a78cc938f0d82e67248ba9', 'word_count': 949, 'score': 4.330479e-32}, {'web_url': 'https://www.nytimes.com/2016/01/27/us/some-sheriffs-bristle-at-recall-of-military-equipment.html', 'snippet': 'A federal order will deprive local authorities of critical tools in an age of heightened fears about terrorism and mass shootings, some law enforcement leaders say.', 'abstract': \"Obama administration's order that law enforcement agencies across United States return surplus military equipment to federal government by April 1 has prompted complaints from some agencies; supporters of plan say equipment is unnecessary and can fuel police use of excessive force, while detractors hold military equipment helps officers in changed and increasingly violent world.\", 'print_page': '1', 'blog': {}, 'source': 'The New York Times', 'multimedia': [{'rank': 0, 'subtype': 'wide', 'caption': None, 'credit': None, 'type': 'image', 'url': 'images/2016/01/25/us/25equipment-web01/25equipment-web01-thumbWide.jpg', 'height': 126, 'width': 190, 'legacy': {'wide': 'images/2016/01/25/us/25equipment-web01/25equipment-web01-thumbWide.jpg', 'wideheight': '126', 'widewidth': '190'}, 'subType': 'wide', 'crop_name': None}, {'rank': 0, 'subtype': 'xlarge', 'caption': None, 'credit': None, 'type': 'image', 'url': 'images/2016/01/25/us/25equipment-web01/25equipment-web01-articleLarge.jpg', 'height': 400, 'width': 600, 'legacy': {'xlargewidth': '600', 'xlarge': 'images/2016/01/25/us/25equipment-web01/25equipment-web01-articleLarge.jpg', 'xlargeheight': '400'}, 'subType': 'xlarge', 'crop_name': None}, {'rank': 0, 'subtype': 'thumbnail', 'caption': None, 'credit': None, 'type': 'image', 'url': 'images/2016/01/25/us/25equipment-web01/25equipment-web01-thumbStandard.jpg', 'height': 75, 'width': 75, 'legacy': {'thumbnailheight': '75', 'thumbnail': 'images/2016/01/25/us/25equipment-web01/25equipment-web01-thumbStandard.jpg', 'thumbnailwidth': '75'}, 'subType': 'thumbnail', 'crop_name': None}], 'headline': {'main': 'Some Officers Bristle at Recall of Military Equipment', 'kicker': None, 'content_kicker': None, 'print_headline': 'U.S. Taking Back Military Gear From Local Law Enforcement ', 'name': None, 'seo': None, 'sub': None}, 'keywords': [{'name': 'subject', 'value': 'Police', 'rank': 1, 'major': None}, {'name': 'subject', 'value': 'United States Defense and Military Forces', 'rank': 2, 'major': None}, {'name': 'subject', 'value': 'Police Brutality, Misconduct and Shootings', 'rank': 3, 'major': None}, {'name': 'glocations', 'value': 'Oakland County (Mich)', 'rank': 4, 'major': None}, {'name': 'subject', 'value': 'September 11 (2001)', 'rank': 5, 'major': None}, {'name': 'subject', 'value': 'San Bernardino, Calif, Shooting (2015)', 'rank': 6, 'major': None}, {'name': 'subject', 'value': 'Aurora, Colo, Shooting (2012)', 'rank': 7, 'major': None}, {'name': 'persons', 'value': 'Obama, Barack', 'rank': 8, 'major': None}], 'pub_date': '2016-01-27T00:00:00Z', 'document_type': 'article', 'new_desk': 'National', 'byline': {'original': 'By TIMOTHY WILLIAMS', 'person': [{'firstname': 'Timothy', 'middlename': None, 'lastname': 'WILLIAMS', 'qualifier': None, 'title': None, 'role': 'reported', 'organization': '', 'rank': 1}], 'organization': None}, 'type_of_material': 'News', '_id': '56a7fd9138f0d85239f4936d', 'word_count': 1255, 'score': 4.2235133e-32}, {'web_url': 'https://takingnote.blogs.nytimes.com/2016/01/29/a-deal-on-concealed-handguns-stirs-virginians/', 'snippet': 'A compromise to reaffirm concealed-carry reciprocity with 25 states looks like a sellout to gun-control advocates.', 'abstract': 'A compromise to reaffirm concealed-carry reciprocity with 25 states looks like a sellout to gun-control advocates.', 'blog': {}, 'source': 'The New York Times', 'multimedia': [{'rank': 0, 'subtype': 'wide', 'caption': None, 'credit': None, 'type': 'image', 'url': 'images/2016/01/29/opinion/29clinesWEB/29clinesWEB-thumbWide.jpg', 'height': 126, 'width': 190, 'legacy': {'wide': 'images/2016/01/29/opinion/29clinesWEB/29clinesWEB-thumbWide.jpg', 'wideheight': '126', 'widewidth': '190'}, 'subType': 'wide', 'crop_name': None}, {'rank': 0, 'subtype': 'xlarge', 'caption': None, 'credit': None, 'type': 'image', 'url': 'images/2016/01/29/opinion/29clinesWEB/29clinesWEB-articleLarge.jpg', 'height': 400, 'width': 600, 'legacy': {'xlargewidth': '600', 'xlarge': 'images/2016/01/29/opinion/29clinesWEB/29clinesWEB-articleLarge.jpg', 'xlargeheight': '400'}, 'subType': 'xlarge', 'crop_name': None}, {'rank': 0, 'subtype': 'thumbnail', 'caption': None, 'credit': None, 'type': 'image', 'url': 'images/2016/01/29/opinion/29clinesWEB/29clinesWEB-thumbStandard.jpg', 'height': 75, 'width': 75, 'legacy': {'thumbnailheight': '75', 'thumbnail': 'images/2016/01/29/opinion/29clinesWEB/29clinesWEB-thumbStandard.jpg', 'thumbnailwidth': '75'}, 'subType': 'thumbnail', 'crop_name': None}], 'headline': {'main': 'A Deal on Concealed Handguns Stirs Virginians', 'kicker': 'Taking Note', 'content_kicker': None, 'print_headline': None, 'name': None, 'seo': None, 'sub': None}, 'keywords': [{'name': 'persons', 'value': 'Cox, Chris W', 'rank': 1, 'major': None}, {'name': 'persons', 'value': 'McAuliffe, Terry', 'rank': 2, 'major': None}, {'name': 'persons', 'value': 'Obama, Barack', 'rank': 3, 'major': None}, {'name': 'glocations', 'value': 'Virginia', 'rank': 1, 'major': None}, {'name': 'organizations', 'value': 'Democratic Party', 'rank': 1, 'major': None}, {'name': 'organizations', 'value': 'Everytown for Gun Safety', 'rank': 2, 'major': None}, {'name': 'organizations', 'value': 'National Rifle Assn', 'rank': 3, 'major': None}, {'name': 'subject', 'value': 'Gun Control', 'rank': 1, 'major': None}, {'name': 'subject', 'value': 'Presidential Election of 2016', 'rank': 2, 'major': None}, {'name': 'subject', 'value': 'State Legislatures', 'rank': 3, 'major': None}, {'name': 'subject', 'value': 'States (US)', 'rank': 4, 'major': None}], 'pub_date': '2016-01-29T17:45:11Z', 'document_type': 'blogpost', 'new_desk': 'OpEd', 'byline': {'original': 'By FRANCIS X. CLINES', 'person': [{'firstname': 'Francis', 'middlename': 'X.', 'lastname': 'CLINES', 'qualifier': None, 'title': None, 'role': 'reported', 'organization': '', 'rank': 1}], 'organization': None}, 'type_of_material': 'Blog', '_id': '56abec2b38f0d87a4195755f', 'word_count': 386, 'score': 4.167794e-32}, {'web_url': 'https://www.nytimes.com/2016/01/27/opinion/friends-and-refugees-in-need.html', 'snippet': 'A tidal wave of people threatens to overwhelm our top ally, the E.U.', 'print_page': '27', 'blog': {}, 'source': 'The New York Times', 'multimedia': [{'rank': 0, 'subtype': 'wide', 'caption': None, 'credit': None, 'type': 'image', 'url': 'images/2014/11/01/opinion/friedman-circular/friedman-circular-thumbWide-v2.png', 'height': 126, 'width': 190, 'legacy': {'wide': 'images/2014/11/01/opinion/friedman-circular/friedman-circular-thumbWide-v2.png', 'widewidth': 190, 'wideheight': 126}, 'subType': 'wide', 'crop_name': None}, {'rank': 0, 'subtype': 'thumbnail', 'caption': None, 'credit': None, 'type': 'image', 'url': 'images/2014/11/01/opinion/friedman-circular/friedman-circular-thumbStandard-v2.png', 'height': 75, 'width': 75, 'legacy': {'thumbnailheight': 75, 'thumbnail': 'images/2014/11/01/opinion/friedman-circular/friedman-circular-thumbStandard-v2.png', 'thumbnailwidth': 75}, 'subType': 'thumbnail', 'crop_name': None}], 'headline': {'main': 'Friends and Refugees in Need', 'kicker': 'Op-Ed Columnist', 'content_kicker': 'Op-Ed Columnist', 'print_headline': 'Friends and Refugees in Need', 'name': None, 'seo': None, 'sub': None}, 'keywords': [{'name': 'subject', 'value': 'United States International Relations', 'rank': 1, 'major': 'N'}, {'name': 'subject', 'value': 'Middle East and Africa Migrant Crisis', 'rank': 2, 'major': 'N'}, {'name': 'organizations', 'value': 'European Union', 'rank': 3, 'major': 'N'}, {'name': 'subject', 'value': 'Refugees and Displaced Persons', 'rank': 4, 'major': 'N'}, {'name': 'subject', 'value': 'Humanitarian Aid', 'rank': 5, 'major': 'N'}, {'name': 'persons', 'value': 'Obama, Barack', 'rank': 6, 'major': 'N'}, {'name': 'subject', 'value': 'Immigration and Emigration', 'rank': 7, 'major': 'N'}, {'name': 'persons', 'value': 'Merkel, Angela', 'rank': 8, 'major': 'N'}, {'name': 'organizations', 'value': 'North Atlantic Treaty Organization', 'rank': 9, 'major': 'N'}], 'pub_date': '2016-01-27T08:21:03+0000', 'document_type': 'article', 'new_desk': 'OpEd', 'byline': {'original': 'By THOMAS L. FRIEDMAN', 'person': [{'firstname': 'Thomas', 'middlename': 'L.', 'lastname': 'FRIEDMAN', 'qualifier': None, 'title': None, 'role': 'reported', 'organization': '', 'rank': 1}], 'organization': None}, 'type_of_material': 'Op-Ed', '_id': '56a87df238f0d85239f49494', 'word_count': 847, 'score': 3.6684446e-32, 'uri': 'nyt://article/8fe14246-066d-5504-881d-f00bf63b852b'}], 'meta': {'hits': 689, 'offset': 0, 'time': 17}}}\n",
      "https://api.nytimes.com/svc/search/v2/articlesearch.json?api-key=164b73c522a8420c8e05343ef1da0a7e&q=obama&begin_date=20160101&end_date=20160130&page=1\n"
     ]
    },
    {
     "name": "stdout",
     "output_type": "stream",
     "text": [
      "{'message': 'API rate limit exceeded'}\n"
     ]
    },
    {
     "ename": "KeyError",
     "evalue": "'response'",
     "output_type": "error",
     "traceback": [
      "\u001b[1;31m---------------------------------------------------------------------------\u001b[0m",
      "\u001b[1;31mKeyError\u001b[0m                                  Traceback (most recent call last)",
      "\u001b[1;32m<ipython-input-13-ff3bc9f682cb>\u001b[0m in \u001b[0;36m<module>\u001b[1;34m()\u001b[0m\n\u001b[0;32m     14\u001b[0m     \u001b[0mprint\u001b[0m\u001b[1;33m(\u001b[0m\u001b[0marticles\u001b[0m\u001b[1;33m)\u001b[0m\u001b[1;33m\u001b[0m\u001b[0m\n\u001b[0;32m     15\u001b[0m     \u001b[1;31m# loop through the response and append each article to the list\u001b[0m\u001b[1;33m\u001b[0m\u001b[1;33m\u001b[0m\u001b[0m\n\u001b[1;32m---> 16\u001b[1;33m     \u001b[1;32mfor\u001b[0m \u001b[0marticle\u001b[0m \u001b[1;32min\u001b[0m \u001b[0marticles\u001b[0m\u001b[1;33m[\u001b[0m\u001b[1;34m\"response\"\u001b[0m\u001b[1;33m]\u001b[0m\u001b[1;33m[\u001b[0m\u001b[1;34m\"docs\"\u001b[0m\u001b[1;33m]\u001b[0m\u001b[1;33m:\u001b[0m\u001b[1;33m\u001b[0m\u001b[0m\n\u001b[0m\u001b[0;32m     17\u001b[0m         \u001b[0marticles_list\u001b[0m\u001b[1;33m.\u001b[0m\u001b[0mappend\u001b[0m\u001b[1;33m(\u001b[0m\u001b[0marticle\u001b[0m\u001b[1;33m)\u001b[0m\u001b[1;33m\u001b[0m\u001b[0m\n\u001b[0;32m     18\u001b[0m \u001b[1;33m\u001b[0m\u001b[0m\n",
      "\u001b[1;31mKeyError\u001b[0m: 'response'"
     ]
    }
   ],
   "source": [
    "# BONUS: How would we get 30 results? \n",
    "# HINT: Look up the page query param\n",
    "\n",
    "# Emply list for articles\n",
    "articles_list = []\n",
    "\n",
    "# loop through pages 0-2\n",
    "for page in range(0, 3):\n",
    "    query_url = \"https://api.nytimes.com/svc/search/v2/articlesearch.json?api-key=164b73c522a8420c8e05343ef1da0a7e&q=obama&begin_date=20160101&end_date=20160130\"\n",
    "    # create query with page number\n",
    "    query_url = f\"{query_url}&page={str(page)}\"\n",
    "    print(query_url)\n",
    "    articles = requests.get(query_url).json()\n",
    "    print(articles)\n",
    "    # loop through the response and append each article to the list\n",
    "    for article in articles[\"response\"][\"docs\"]:\n",
    "        articles_list.append(article)\n",
    "\n"
   ]
  },
  {
   "cell_type": "code",
   "execution_count": null,
   "metadata": {
    "collapsed": true
   },
   "outputs": [],
   "source": []
  },
  {
   "cell_type": "code",
   "execution_count": null,
   "metadata": {
    "collapsed": true
   },
   "outputs": [],
   "source": []
  }
 ],
 "metadata": {
  "kernelspec": {
   "display_name": "Python 3",
   "language": "python",
   "name": "python3"
  },
  "language_info": {
   "codemirror_mode": {
    "name": "ipython",
    "version": 3
   },
   "file_extension": ".py",
   "mimetype": "text/x-python",
   "name": "python",
   "nbconvert_exporter": "python",
   "pygments_lexer": "ipython3",
   "version": "3.6.3"
  },
  "varInspector": {
   "cols": {
    "lenName": 16,
    "lenType": 16,
    "lenVar": 40
   },
   "kernels_config": {
    "python": {
     "delete_cmd_postfix": "",
     "delete_cmd_prefix": "del ",
     "library": "var_list.py",
     "varRefreshCmd": "print(var_dic_list())"
    },
    "r": {
     "delete_cmd_postfix": ") ",
     "delete_cmd_prefix": "rm(",
     "library": "var_list.r",
     "varRefreshCmd": "cat(var_dic_list()) "
    }
   },
   "types_to_exclude": [
    "module",
    "function",
    "builtin_function_or_method",
    "instance",
    "_Feature"
   ],
   "window_display": false
  }
 },
 "nbformat": 4,
 "nbformat_minor": 2
}
