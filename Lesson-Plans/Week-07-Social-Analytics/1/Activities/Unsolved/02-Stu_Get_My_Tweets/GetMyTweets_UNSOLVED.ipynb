{
 "cells": [
  {
   "cell_type": "code",
   "execution_count": null,
   "metadata": {
    "collapsed": true
   },
   "outputs": [],
   "source": [
    "# Dependencies\n",
    "import tweepy\n",
    "import json\n",
    "\n",
    "# Twitter API Keys\n",
    "consumer_key = 'your info here';\n",
    "consumer_secret = 'your info here'\n",
    "access_token = 'your info here'\n",
    "access_token_secret = 'your info here'\n",
    "\n",
    "# Setup Tweepy API Authentication\n",
    "# YOUR CODE HERE\n",
    "raise NotImplementedError()\n",
    "\n",
    "# Get all tweets from home feed\n",
    "# YOUR CODE HERE\n",
    "raise NotImplementedError()\n",
    "\n",
    "# Loop through all tweets and print a prettified JSON of each tweet\n",
    "# YOUR CODE HERE\n",
    "raise NotImplementedError()"
   ]
  }
 ],
 "metadata": {
  "kernelspec": {
   "display_name": "Python 3",
   "language": "python",
   "name": "python3"
  },
  "language_info": {
   "codemirror_mode": {
    "name": "ipython",
    "version": 3
   },
   "file_extension": ".py",
   "mimetype": "text/x-python",
   "name": "python",
   "nbconvert_exporter": "python",
   "pygments_lexer": "ipython3",
   "version": "3.6.1"
  }
 },
 "nbformat": 4,
 "nbformat_minor": 2
}
